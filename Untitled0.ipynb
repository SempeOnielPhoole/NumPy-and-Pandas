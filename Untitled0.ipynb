{
  "nbformat": 4,
  "nbformat_minor": 0,
  "metadata": {
    "colab": {
      "provenance": [],
      "authorship_tag": "ABX9TyNybnmbmgIfwRvAiTYiFXaV",
      "include_colab_link": true
    },
    "kernelspec": {
      "name": "python3",
      "display_name": "Python 3"
    },
    "language_info": {
      "name": "python"
    }
  },
  "cells": [
    {
      "cell_type": "markdown",
      "metadata": {
        "id": "view-in-github",
        "colab_type": "text"
      },
      "source": [
        "<a href=\"https://colab.research.google.com/github/SempeOnielPhoole/NumPy-and-Pandas/blob/main/Untitled0.ipynb\" target=\"_parent\"><img src=\"https://colab.research.google.com/assets/colab-badge.svg\" alt=\"Open In Colab\"/></a>"
      ]
    },
    {
      "cell_type": "markdown",
      "source": [
        "Creating 1D and 2D Arrays"
      ],
      "metadata": {
        "id": "1xzBaeF3wMOy"
      }
    },
    {
      "cell_type": "code",
      "source": [
        "import numpy as np\n",
        "\n",
        "numbers = [1,2,3,4,5]\n",
        "numbers= np.array(numbers)\n",
        "print(\"One Dimensional Array : \",numbers)"
      ],
      "metadata": {
        "colab": {
          "base_uri": "https://localhost:8080/"
        },
        "id": "f9xUGRYuwXdr",
        "outputId": "a0aca4a9-7799-4256-fbc3-465e6c6eb54e"
      },
      "execution_count": 1,
      "outputs": [
        {
          "output_type": "stream",
          "name": "stdout",
          "text": [
            "One Dimensional Array :  [1 2 3 4 5]\n"
          ]
        }
      ]
    },
    {
      "cell_type": "code",
      "source": [
        "import numpy as np\n",
        "\n",
        "numbers = [\"1,2,3,4,5\"],[\"Hello\",\"learners\"]\n",
        "numbers = np.array(numbers)\n",
        "print(\"Two Dimensional Array : \",numbers)\n"
      ],
      "metadata": {
        "colab": {
          "base_uri": "https://localhost:8080/"
        },
        "id": "pehP9UnMxFuB",
        "outputId": "365d3402-ad90-4c7f-c993-65691cc6d812"
      },
      "execution_count": 2,
      "outputs": [
        {
          "output_type": "stream",
          "name": "stdout",
          "text": [
            "Two Dimensional Array :  [list(['1,2,3,4,5']) list(['Hello', 'learners'])]\n"
          ]
        },
        {
          "output_type": "stream",
          "name": "stderr",
          "text": [
            "<ipython-input-2-a4c400bbed3e>:4: VisibleDeprecationWarning: Creating an ndarray from ragged nested sequences (which is a list-or-tuple of lists-or-tuples-or ndarrays with different lengths or shapes) is deprecated. If you meant to do this, you must specify 'dtype=object' when creating the ndarray.\n",
            "  numbers = np.array(numbers)\n"
          ]
        }
      ]
    },
    {
      "cell_type": "markdown",
      "source": [
        "Eye Function in NumPy"
      ],
      "metadata": {
        "id": "vb1BSUSJyMSv"
      }
    },
    {
      "cell_type": "code",
      "source": [
        "eye_mat = np.eye(3)\n",
        "print(\"one across diagonals:  \\n\\n\",eye_mat)"
      ],
      "metadata": {
        "colab": {
          "base_uri": "https://localhost:8080/"
        },
        "id": "cylGfzjAyUh_",
        "outputId": "b9d4cdf0-1f6a-4c00-f670-6fa390393fbf"
      },
      "execution_count": 3,
      "outputs": [
        {
          "output_type": "stream",
          "name": "stdout",
          "text": [
            "one across diagonals:  \n",
            "\n",
            " [[1. 0. 0.]\n",
            " [0. 1. 0.]\n",
            " [0. 0. 1.]]\n"
          ]
        }
      ]
    },
    {
      "cell_type": "markdown",
      "source": [
        "Random numbers from 0 to 100 printing 10"
      ],
      "metadata": {
        "id": "yg2y_zrXzJNf"
      }
    },
    {
      "cell_type": "code",
      "source": [
        "random_print = np.random.randint(0,100,10)\n",
        "print(\"Random numbers from 0 to 100 printing 10: \\n\\n\",random_print)"
      ],
      "metadata": {
        "colab": {
          "base_uri": "https://localhost:8080/"
        },
        "id": "vsQ-HwxUzU4u",
        "outputId": "a49ce6ad-e44d-4efc-d1e1-fcd49b32e6c3"
      },
      "execution_count": 5,
      "outputs": [
        {
          "output_type": "stream",
          "name": "stdout",
          "text": [
            "Random numbers from 0 to 100 printing 10: \n",
            "\n",
            " [79 96 52 91 36 16 93 85 20 65]\n"
          ]
        }
      ]
    },
    {
      "cell_type": "markdown",
      "source": [
        "Printing the last element in the array"
      ],
      "metadata": {
        "id": "fvI_1gdM1T6H"
      }
    },
    {
      "cell_type": "code",
      "source": [
        "names = np.array([\"Jacob\",\"Sam\",\"Kate\",\"Simon\"])\n",
        "print(\"\\n Last element of the array is:\",names[-1])"
      ],
      "metadata": {
        "colab": {
          "base_uri": "https://localhost:8080/"
        },
        "id": "_hIdO6cJ1bos",
        "outputId": "c3f13609-6410-4dcc-ac25-18f455ef53e3"
      },
      "execution_count": 6,
      "outputs": [
        {
          "output_type": "stream",
          "name": "stdout",
          "text": [
            "\n",
            " Last element of the array is: Simon\n"
          ]
        }
      ]
    },
    {
      "cell_type": "markdown",
      "source": [
        "Printing 3rd element of the 2nd row"
      ],
      "metadata": {
        "id": "dRBgdRso2dIf"
      }
    },
    {
      "cell_type": "code",
      "source": [
        "numbers = np.array([[5,8,3],[3,1,2],[5,7,8]])\n",
        "print(\"Second Row, third element:\",numbers[1][2])"
      ],
      "metadata": {
        "colab": {
          "base_uri": "https://localhost:8080/"
        },
        "id": "amIC3pTH2jOy",
        "outputId": "d1e6aba4-e927-460e-86f1-7225d95c90e9"
      },
      "execution_count": 8,
      "outputs": [
        {
          "output_type": "stream",
          "name": "stdout",
          "text": [
            "Second Row, third element: 2\n"
          ]
        }
      ]
    },
    {
      "cell_type": "markdown",
      "source": [
        "Using a 5*5 array,insert number 1 to 25"
      ],
      "metadata": {
        "id": "qOH6Nnqu3k8D"
      }
    },
    {
      "cell_type": "code",
      "source": [
        "numbers = np.arange(1,26).reshape(5,5)\n",
        "print(\"Numbers inserted \\n\\n\",numbers)"
      ],
      "metadata": {
        "colab": {
          "base_uri": "https://localhost:8080/"
        },
        "id": "re3PHeRW3yP5",
        "outputId": "3c1002a1-0cc7-4969-a799-a630e4437b7c"
      },
      "execution_count": 11,
      "outputs": [
        {
          "output_type": "stream",
          "name": "stdout",
          "text": [
            "Numbers inserted \n",
            "\n",
            " [[ 1  2  3  4  5]\n",
            " [ 6  7  8  9 10]\n",
            " [11 12 13 14 15]\n",
            " [16 17 18 19 20]\n",
            " [21 22 23 24 25]]\n"
          ]
        }
      ]
    },
    {
      "cell_type": "markdown",
      "source": [
        "Replacing all even numbers in the array"
      ],
      "metadata": {
        "id": "Ixcnoh9X4qXE"
      }
    },
    {
      "cell_type": "code",
      "source": [
        "numbers = np.array([0,1,2,3,4,5,6,7,8,9,10,11,12,13,14,15])\n",
        "numbers[numbers%2==0] = 10\n",
        "print(numbers)"
      ],
      "metadata": {
        "colab": {
          "base_uri": "https://localhost:8080/"
        },
        "id": "JMTkSpIR4wo9",
        "outputId": "a03c48ed-1397-43de-8517-b029d131baaf"
      },
      "execution_count": 12,
      "outputs": [
        {
          "output_type": "stream",
          "name": "stdout",
          "text": [
            "[10  1 10  3 10  5 10  7 10  9 10 11 10 13 10 15]\n"
          ]
        }
      ]
    },
    {
      "cell_type": "markdown",
      "source": [
        "Converting a 1D arrray into 2D array"
      ],
      "metadata": {
        "id": "IGzjuE2VPH9E"
      }
    },
    {
      "cell_type": "code",
      "source": [
        "import numpy as np\n",
        "\n",
        "numbers = np.arange(10)\n",
        "print(numbers)\n",
        "print(\"Reshaped into 2 dimensions:\\n\")\n",
        "numbers.reshape(2,-1)"
      ],
      "metadata": {
        "colab": {
          "base_uri": "https://localhost:8080/"
        },
        "id": "Amvmrk_aPY5b",
        "outputId": "45730aca-b4c6-41ea-8517-fc1e2cacbf97"
      },
      "execution_count": 4,
      "outputs": [
        {
          "output_type": "stream",
          "name": "stdout",
          "text": [
            "[0 1 2 3 4 5 6 7 8 9]\n",
            "Reshaped into 2 dimensions:\n",
            "\n"
          ]
        },
        {
          "output_type": "execute_result",
          "data": {
            "text/plain": [
              "array([[0, 1, 2, 3, 4],\n",
              "       [5, 6, 7, 8, 9]])"
            ]
          },
          "metadata": {},
          "execution_count": 4
        }
      ]
    },
    {
      "cell_type": "markdown",
      "source": [
        "Printing the common elements in two arrays"
      ],
      "metadata": {
        "id": "UP7IKQF-RQDe"
      }
    },
    {
      "cell_type": "code",
      "source": [
        "x = np.array([10,6,30,45,2])\n",
        "y = np.array([36,85,10,2,7,30])\n",
        "np.intersect1d(x,y)"
      ],
      "metadata": {
        "colab": {
          "base_uri": "https://localhost:8080/"
        },
        "id": "J0Em6u3-RgKO",
        "outputId": "fb2e36e2-b82e-47e8-fcf4-789ee6cdc861"
      },
      "execution_count": 5,
      "outputs": [
        {
          "output_type": "execute_result",
          "data": {
            "text/plain": [
              "array([ 2, 10, 30])"
            ]
          },
          "metadata": {},
          "execution_count": 5
        }
      ]
    },
    {
      "cell_type": "markdown",
      "source": [
        "Printing elements from 3 to 6 in an array"
      ],
      "metadata": {
        "id": "VBvwHBtuS7pc"
      }
    },
    {
      "cell_type": "code",
      "source": [
        "numbers = np.arange(10)\n",
        "print(numbers)\n",
        "numbers[(numbers >= 3) & (numbers <= 6)]"
      ],
      "metadata": {
        "colab": {
          "base_uri": "https://localhost:8080/"
        },
        "id": "E-vJPxpITDzn",
        "outputId": "7f348ab6-3626-43ce-ff46-3533836f4c6f"
      },
      "execution_count": 8,
      "outputs": [
        {
          "output_type": "stream",
          "name": "stdout",
          "text": [
            "[0 1 2 3 4 5 6 7 8 9]\n"
          ]
        },
        {
          "output_type": "execute_result",
          "data": {
            "text/plain": [
              "array([3, 4, 5, 6])"
            ]
          },
          "metadata": {},
          "execution_count": 8
        }
      ]
    },
    {
      "cell_type": "markdown",
      "source": [
        "Sample series using Dictionary and Pandas"
      ],
      "metadata": {
        "id": "7Ohl-DusVMPu"
      }
    },
    {
      "cell_type": "code",
      "source": [
        "import pandas as pd\n",
        "import numpy as np\n",
        "sample_dict = {\"x\":1,\"y\":2,\"z\":3}\n",
        "the_series = pd.Series(sample_dict)\n",
        "print (the_series)"
      ],
      "metadata": {
        "colab": {
          "base_uri": "https://localhost:8080/"
        },
        "id": "PRk0GKRqVjBU",
        "outputId": "38fad9ce-d406-4e02-c2ac-e6140c4fe8ac"
      },
      "execution_count": 10,
      "outputs": [
        {
          "output_type": "stream",
          "name": "stdout",
          "text": [
            "x    1\n",
            "y    2\n",
            "z    3\n",
            "dtype: int64\n"
          ]
        }
      ]
    },
    {
      "cell_type": "markdown",
      "source": [
        "Assigning names to series index"
      ],
      "metadata": {
        "id": "CRFAMKvAXwDS"
      }
    },
    {
      "cell_type": "code",
      "source": [
        "sample_series = pd.Series(list('123456789'))\n",
        "sample_series.name = 'numbers'\n",
        "sample_series.head()"
      ],
      "metadata": {
        "colab": {
          "base_uri": "https://localhost:8080/"
        },
        "id": "fOWIxvmoX_22",
        "outputId": "81544a3f-e528-4dae-8a0d-819f1329172e"
      },
      "execution_count": 12,
      "outputs": [
        {
          "output_type": "execute_result",
          "data": {
            "text/plain": [
              "0    1\n",
              "1    2\n",
              "2    3\n",
              "3    4\n",
              "4    5\n",
              "Name: numbers, dtype: object"
            ]
          },
          "metadata": {},
          "execution_count": 12
        }
      ]
    },
    {
      "cell_type": "markdown",
      "source": [
        "Printing items that are present only in one series"
      ],
      "metadata": {
        "id": "sjbDYtK5aEmJ"
      }
    },
    {
      "cell_type": "code",
      "source": [
        "first_series = pd.Series([1,2,3,4,6])\n",
        "second_series = pd.Series([5,6,7,8])\n",
        "first_series[~first_series.isin(second_series)]"
      ],
      "metadata": {
        "colab": {
          "base_uri": "https://localhost:8080/"
        },
        "id": "VC080pEraTTa",
        "outputId": "4042b87f-f60f-4382-f4f9-0027b2f06326"
      },
      "execution_count": 13,
      "outputs": [
        {
          "output_type": "execute_result",
          "data": {
            "text/plain": [
              "0    1\n",
              "1    2\n",
              "2    3\n",
              "3    4\n",
              "dtype: int64"
            ]
          },
          "metadata": {},
          "execution_count": 13
        }
      ]
    },
    {
      "cell_type": "markdown",
      "source": [
        "Converting NumPy array into a Pandas DataFrame"
      ],
      "metadata": {
        "id": "IVHPWi-QbynI"
      }
    },
    {
      "cell_type": "code",
      "source": [
        "sample_series = pd.Series(np.random.randint(1,30,25))\n",
        "data_frame = pd.DataFrame(sample_series.values.reshape(5,5))\n",
        "print(data_frame)"
      ],
      "metadata": {
        "colab": {
          "base_uri": "https://localhost:8080/"
        },
        "id": "4SDOmmmKcOSy",
        "outputId": "5be9ea53-ece6-420e-98b1-c9cfa31474cd"
      },
      "execution_count": 15,
      "outputs": [
        {
          "output_type": "stream",
          "name": "stdout",
          "text": [
            "    0   1   2   3   4\n",
            "0   1  25  13  22  27\n",
            "1  15  22  11  25  24\n",
            "2  16   2  19  27  21\n",
            "3   1   7   3  28  13\n",
            "4  19  10  18  22  11\n"
          ]
        }
      ]
    }
  ]
}